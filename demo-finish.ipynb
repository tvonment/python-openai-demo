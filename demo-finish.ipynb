{
 "cells": [
  {
   "cell_type": "code",
   "execution_count": null,
   "metadata": {},
   "outputs": [],
   "source": [
    "!pip install openai\n",
    "!pip install python-dotenv"
   ]
  },
  {
   "cell_type": "code",
   "execution_count": null,
   "metadata": {},
   "outputs": [],
   "source": [
    "import dotenv\n",
    "\n",
    "%load_ext dotenv\n",
    "%dotenv"
   ]
  },
  {
   "cell_type": "code",
   "execution_count": null,
   "metadata": {},
   "outputs": [],
   "source": [
    "import requests\n",
    "\n",
    "url = 'https://www.corporatesoftware.ch/blog/intelligent-host-schluss-mit-sicherheitslucken-bei-guest-usern/'\n",
    "\n",
    "response = requests.get(url)\n",
    "html = response.content.decode('utf-8')\n",
    "\n",
    "print(html)"
   ]
  },
  {
   "cell_type": "code",
   "execution_count": null,
   "metadata": {},
   "outputs": [],
   "source": [
    "import openai\n",
    "import os\n",
    "import sys\n",
    "\n",
    "openai.api_type = \"azure\"\n",
    "openai.api_base = \"https://openaimg01.openai.azure.com/\"\n",
    "openai.api_version = \"2023-03-15-preview\"\n",
    "openai.api_key = os.getenv(\"OPENAI_API_KEY\")\n",
    "messages = [{\"content\": html, \"role\": \"assistant\"}]\n",
    "\n",
    "def chat(prompt):\n",
    "  messages.append({\"content\": prompt, \"role\": \"user\"})\n",
    "  response = openai.ChatCompletion.create(\n",
    "      engine=\"SebastianGPT35Turbo\",\n",
    "      messages = messages,\n",
    "      temperature=0.7,\n",
    "      max_tokens=800,\n",
    "      top_p=0.95,\n",
    "      frequency_penalty=0,\n",
    "      presence_penalty=0,\n",
    "      stop=None)\n",
    "  message = response.choices[0].message\n",
    "  messages.append(message)\n",
    "  return message.content.strip()"
   ]
  },
  {
   "cell_type": "code",
   "execution_count": null,
   "metadata": {},
   "outputs": [],
   "source": [
    "user_input = \"\"\n",
    "while user_input != \"bye\":\n",
    "    user_input = input(\"You: \")\n",
    "    print(f\"You: {user_input}\\n\")\n",
    "    ai_response = chat(user_input)\n",
    "    print(f\"AI: {ai_response}\\n\")\n",
    "    sys.stdout.flush()"
   ]
  }
 ],
 "metadata": {
  "kernelspec": {
   "display_name": "Python 3",
   "language": "python",
   "name": "python3"
  },
  "language_info": {
   "codemirror_mode": {
    "name": "ipython",
    "version": 3
   },
   "file_extension": ".py",
   "mimetype": "text/x-python",
   "name": "python",
   "nbconvert_exporter": "python",
   "pygments_lexer": "ipython3",
   "version": "3.10.4"
  },
  "orig_nbformat": 4
 },
 "nbformat": 4,
 "nbformat_minor": 2
}

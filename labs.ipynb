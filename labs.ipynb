{
 "cells": [
  {
   "cell_type": "code",
   "execution_count": null,
   "metadata": {},
   "outputs": [],
   "source": [
    "!pip3 install openai==1.2.0"
   ]
  },
  {
   "cell_type": "code",
   "execution_count": 4,
   "metadata": {},
   "outputs": [],
   "source": [
    "import dotenv\n",
    "\n",
    "%load_ext dotenv\n",
    "%dotenv"
   ]
  },
  {
   "cell_type": "code",
   "execution_count": 5,
   "metadata": {},
   "outputs": [],
   "source": [
    "import os\n",
    "from openai import AzureOpenAI\n",
    "\n",
    "azure_oai_endpoint= os.getenv(\"OPENAI_API_BASE\")\n",
    "azure_oai_key= os.getenv(\"OPENAI_API_KEY\")\n",
    "\n",
    " # Configure the Azure OpenAI clientt\n",
    "client = AzureOpenAI(\n",
    "    azure_endpoint = azure_oai_endpoint, \n",
    "    api_key=azure_oai_key,  \n",
    "    api_version=\"2023-05-15\"\n",
    ")"
   ]
  },
  {
   "cell_type": "code",
   "execution_count": null,
   "metadata": {},
   "outputs": [],
   "source": []
  },
  {
   "cell_type": "code",
   "execution_count": 8,
   "metadata": {},
   "outputs": [
    {
     "name": "stdout",
     "output_type": "stream",
     "text": [
      "The Eurovision Song Contest 2020 was cancelled due to the COVID-19 pandemic. Therefore, there was no winner for ESC 2020.\n"
     ]
    }
   ],
   "source": [
    "# Format and send the request to the model\n",
    "messages =[\n",
    "     {\"role\": \"system\", \"content\": \"you are an ai assistant\"},\n",
    "     {\"role\": \"user\", \"content\": \"who won the esc 2020?\"},\n",
    "]\n",
    "    \n",
    "# Call the Azure OpenAI model\n",
    "response = client.chat.completions.create(\n",
    "     model=\"gpt-4\",\n",
    "     messages=messages,\n",
    "     temperature=0.7,\n",
    "     max_tokens=800\n",
    ")\n",
    "\n",
    "#print(response)\n",
    "print(response.choices[0].message.content)"
   ]
  }
 ],
 "metadata": {
  "kernelspec": {
   "display_name": "Python 3",
   "language": "python",
   "name": "python3"
  },
  "language_info": {
   "codemirror_mode": {
    "name": "ipython",
    "version": 3
   },
   "file_extension": ".py",
   "mimetype": "text/x-python",
   "name": "python",
   "nbconvert_exporter": "python",
   "pygments_lexer": "ipython3",
   "version": "3.10.13"
  }
 },
 "nbformat": 4,
 "nbformat_minor": 2
}
